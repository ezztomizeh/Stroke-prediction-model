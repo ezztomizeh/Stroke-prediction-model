{
 "cells": [
  {
   "cell_type": "markdown",
   "id": "parliamentary-transmission",
   "metadata": {
    "id": "T4rDd_E92YXk",
    "papermill": {
     "duration": 0.030897,
     "end_time": "2021-05-21T12:01:50.453365",
     "exception": false,
     "start_time": "2021-05-21T12:01:50.422468",
     "status": "completed"
    },
    "tags": []
   },
   "source": [
    "# Introduction\n",
    "\n",
    "![](data:image/jpeg;base64,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)\n",
    "\n",
    "Welcome, to this notebook that talking about stroke and what is affecting it. \n",
    "\n",
    "we have about 12 pieces of info about who stroke and who didn't have a stroke, I think this data is missing some information about blood pressure and more things that will make this dataset more exciting.\n",
    "\n",
    "But no problem, something better than nothing, I'll try to make a good notebook that maybe will give you new information about stroke.\n",
    "\n",
    "#Missing data\n",
    "\n",
    "before we start this notebook and build an ML model, there's about 200 missing value for BMI, I will use an ML algorithm to predict these missing value to help us to complete this notebook successfully."
   ]
  },
  {
   "cell_type": "code",
   "execution_count": 1,
   "id": "endless-humanitarian",
   "metadata": {
    "execution": {
     "iopub.execute_input": "2021-05-21T12:01:50.520951Z",
     "iopub.status.busy": "2021-05-21T12:01:50.519132Z",
     "iopub.status.idle": "2021-05-21T12:01:52.086027Z",
     "shell.execute_reply": "2021-05-21T12:01:52.084628Z"
    },
    "id": "taL742c0Saug",
    "papermill": {
     "duration": 1.60205,
     "end_time": "2021-05-21T12:01:52.086233",
     "exception": false,
     "start_time": "2021-05-21T12:01:50.484183",
     "status": "completed"
    },
    "tags": []
   },
   "outputs": [],
   "source": [
    "import pandas as pd\n",
    "import seaborn as sns\n",
    "import numpy as np\n",
    "import matplotlib.pyplot as plt\n",
    "from sklearn.naive_bayes import BernoulliNB\n",
    "from sklearn.tree import DecisionTreeRegressor\n",
    "from sklearn.ensemble import RandomForestClassifier\n",
    "from sklearn.svm import SVC \n",
    "from sklearn.linear_model import LogisticRegression\n",
    "from sklearn.metrics import classification_report , confusion_matrix\n",
    "from sklearn.model_selection import train_test_split\n",
    "from sklearn.preprocessing import StandardScaler , MinMaxScaler\n",
    "from sklearn.pipeline import Pipeline"
   ]
  },
  {
   "cell_type": "code",
   "execution_count": 2,
   "id": "sound-confidentiality",
   "metadata": {
    "execution": {
     "iopub.execute_input": "2021-05-21T12:01:52.157005Z",
     "iopub.status.busy": "2021-05-21T12:01:52.156334Z",
     "iopub.status.idle": "2021-05-21T12:01:52.230797Z",
     "shell.execute_reply": "2021-05-21T12:01:52.230274Z"
    },
    "id": "jtglScwJTDwX",
    "outputId": "7e2e94d3-1857-4751-9d8a-ea36b52272ec",
    "papermill": {
     "duration": 0.112285,
     "end_time": "2021-05-21T12:01:52.230942",
     "exception": false,
     "start_time": "2021-05-21T12:01:52.118657",
     "status": "completed"
    },
    "tags": []
   },
   "outputs": [
    {
     "data": {
      "text/html": [
       "<div>\n",
       "<style scoped>\n",
       "    .dataframe tbody tr th:only-of-type {\n",
       "        vertical-align: middle;\n",
       "    }\n",
       "\n",
       "    .dataframe tbody tr th {\n",
       "        vertical-align: top;\n",
       "    }\n",
       "\n",
       "    .dataframe thead th {\n",
       "        text-align: right;\n",
       "    }\n",
       "</style>\n",
       "<table border=\"1\" class=\"dataframe\">\n",
       "  <thead>\n",
       "    <tr style=\"text-align: right;\">\n",
       "      <th></th>\n",
       "      <th>id</th>\n",
       "      <th>gender</th>\n",
       "      <th>age</th>\n",
       "      <th>hypertension</th>\n",
       "      <th>heart_disease</th>\n",
       "      <th>ever_married</th>\n",
       "      <th>work_type</th>\n",
       "      <th>Residence_type</th>\n",
       "      <th>avg_glucose_level</th>\n",
       "      <th>bmi</th>\n",
       "      <th>smoking_status</th>\n",
       "      <th>stroke</th>\n",
       "    </tr>\n",
       "  </thead>\n",
       "  <tbody>\n",
       "    <tr>\n",
       "      <th>0</th>\n",
       "      <td>9046</td>\n",
       "      <td>Male</td>\n",
       "      <td>67.0</td>\n",
       "      <td>0</td>\n",
       "      <td>1</td>\n",
       "      <td>Yes</td>\n",
       "      <td>Private</td>\n",
       "      <td>Urban</td>\n",
       "      <td>228.69</td>\n",
       "      <td>36.6</td>\n",
       "      <td>formerly smoked</td>\n",
       "      <td>1</td>\n",
       "    </tr>\n",
       "    <tr>\n",
       "      <th>1</th>\n",
       "      <td>51676</td>\n",
       "      <td>Female</td>\n",
       "      <td>61.0</td>\n",
       "      <td>0</td>\n",
       "      <td>0</td>\n",
       "      <td>Yes</td>\n",
       "      <td>Self-employed</td>\n",
       "      <td>Rural</td>\n",
       "      <td>202.21</td>\n",
       "      <td>NaN</td>\n",
       "      <td>never smoked</td>\n",
       "      <td>1</td>\n",
       "    </tr>\n",
       "    <tr>\n",
       "      <th>2</th>\n",
       "      <td>31112</td>\n",
       "      <td>Male</td>\n",
       "      <td>80.0</td>\n",
       "      <td>0</td>\n",
       "      <td>1</td>\n",
       "      <td>Yes</td>\n",
       "      <td>Private</td>\n",
       "      <td>Rural</td>\n",
       "      <td>105.92</td>\n",
       "      <td>32.5</td>\n",
       "      <td>never smoked</td>\n",
       "      <td>1</td>\n",
       "    </tr>\n",
       "    <tr>\n",
       "      <th>3</th>\n",
       "      <td>60182</td>\n",
       "      <td>Female</td>\n",
       "      <td>49.0</td>\n",
       "      <td>0</td>\n",
       "      <td>0</td>\n",
       "      <td>Yes</td>\n",
       "      <td>Private</td>\n",
       "      <td>Urban</td>\n",
       "      <td>171.23</td>\n",
       "      <td>34.4</td>\n",
       "      <td>smokes</td>\n",
       "      <td>1</td>\n",
       "    </tr>\n",
       "    <tr>\n",
       "      <th>4</th>\n",
       "      <td>1665</td>\n",
       "      <td>Female</td>\n",
       "      <td>79.0</td>\n",
       "      <td>1</td>\n",
       "      <td>0</td>\n",
       "      <td>Yes</td>\n",
       "      <td>Self-employed</td>\n",
       "      <td>Rural</td>\n",
       "      <td>174.12</td>\n",
       "      <td>24.0</td>\n",
       "      <td>never smoked</td>\n",
       "      <td>1</td>\n",
       "    </tr>\n",
       "  </tbody>\n",
       "</table>\n",
       "</div>"
      ],
      "text/plain": [
       "      id  gender   age  hypertension  heart_disease ever_married  \\\n",
       "0   9046    Male  67.0             0              1          Yes   \n",
       "1  51676  Female  61.0             0              0          Yes   \n",
       "2  31112    Male  80.0             0              1          Yes   \n",
       "3  60182  Female  49.0             0              0          Yes   \n",
       "4   1665  Female  79.0             1              0          Yes   \n",
       "\n",
       "       work_type Residence_type  avg_glucose_level   bmi   smoking_status  \\\n",
       "0        Private          Urban             228.69  36.6  formerly smoked   \n",
       "1  Self-employed          Rural             202.21   NaN     never smoked   \n",
       "2        Private          Rural             105.92  32.5     never smoked   \n",
       "3        Private          Urban             171.23  34.4           smokes   \n",
       "4  Self-employed          Rural             174.12  24.0     never smoked   \n",
       "\n",
       "   stroke  \n",
       "0       1  \n",
       "1       1  \n",
       "2       1  \n",
       "3       1  \n",
       "4       1  "
      ]
     },
     "execution_count": 2,
     "metadata": {},
     "output_type": "execute_result"
    }
   ],
   "source": [
    "df = pd.read_csv('../input/stroke-prediction-dataset/healthcare-dataset-stroke-data.csv')\n",
    "df.head()"
   ]
  },
  {
   "cell_type": "markdown",
   "id": "novel-swing",
   "metadata": {
    "id": "6__ykq-G4orx",
    "papermill": {
     "duration": 0.030269,
     "end_time": "2021-05-21T12:01:52.292249",
     "exception": false,
     "start_time": "2021-05-21T12:01:52.261980",
     "status": "completed"
    },
    "tags": []
   },
   "source": [
    "> As you see there is 201 missing bmi values"
   ]
  },
  {
   "cell_type": "code",
   "execution_count": 3,
   "id": "fundamental-height",
   "metadata": {
    "execution": {
     "iopub.execute_input": "2021-05-21T12:01:52.363949Z",
     "iopub.status.busy": "2021-05-21T12:01:52.363289Z",
     "iopub.status.idle": "2021-05-21T12:01:52.367272Z",
     "shell.execute_reply": "2021-05-21T12:01:52.366693Z"
    },
    "id": "Huu8iY2FWV_c",
    "outputId": "4e6e700b-14bc-48ce-8e53-4469d5fad595",
    "papermill": {
     "duration": 0.044849,
     "end_time": "2021-05-21T12:01:52.367444",
     "exception": false,
     "start_time": "2021-05-21T12:01:52.322595",
     "status": "completed"
    },
    "tags": []
   },
   "outputs": [
    {
     "data": {
      "text/plain": [
       "id                     0\n",
       "gender                 0\n",
       "age                    0\n",
       "hypertension           0\n",
       "heart_disease          0\n",
       "ever_married           0\n",
       "work_type              0\n",
       "Residence_type         0\n",
       "avg_glucose_level      0\n",
       "bmi                  201\n",
       "smoking_status         0\n",
       "stroke                 0\n",
       "dtype: int64"
      ]
     },
     "execution_count": 3,
     "metadata": {},
     "output_type": "execute_result"
    }
   ],
   "source": [
    "df.isnull().sum()"
   ]
  },
  {
   "cell_type": "markdown",
   "id": "caring-despite",
   "metadata": {
    "id": "1_BlVm2P40Z-",
    "papermill": {
     "duration": 0.031988,
     "end_time": "2021-05-21T12:01:52.430410",
     "exception": false,
     "start_time": "2021-05-21T12:01:52.398422",
     "status": "completed"
    },
    "tags": []
   },
   "source": [
    "> here we are predicting these missing values"
   ]
  },
  {
   "cell_type": "code",
   "execution_count": 4,
   "id": "later-rescue",
   "metadata": {
    "execution": {
     "iopub.execute_input": "2021-05-21T12:01:52.509688Z",
     "iopub.status.busy": "2021-05-21T12:01:52.508581Z",
     "iopub.status.idle": "2021-05-21T12:01:52.527995Z",
     "shell.execute_reply": "2021-05-21T12:01:52.528679Z"
    },
    "id": "bPPmoSleV0s-",
    "papermill": {
     "duration": 0.066714,
     "end_time": "2021-05-21T12:01:52.528870",
     "exception": false,
     "start_time": "2021-05-21T12:01:52.462156",
     "status": "completed"
    },
    "tags": []
   },
   "outputs": [],
   "source": [
    "DT_bmi_pipe = Pipeline( steps=[ \n",
    "                               ('scale',StandardScaler()),\n",
    "                               ('lr',DecisionTreeRegressor(random_state=42))\n",
    "                              ])\n",
    "X = df[['age','gender','bmi']].copy()\n",
    "X.gender = X.gender.replace({'Male':0,'Female':1,'Other':-1}).astype(np.uint8)\n",
    "\n",
    "Missing = X[X.bmi.isna()]\n",
    "X = X[~X.bmi.isna()]\n",
    "Y = X.pop('bmi')\n",
    "DT_bmi_pipe.fit(X,Y)\n",
    "predicted_bmi = pd.Series(DT_bmi_pipe.predict(Missing[['age','gender']]),index=Missing.index)\n",
    "df.loc[Missing.index,'bmi'] = predicted_bmi"
   ]
  },
  {
   "cell_type": "code",
   "execution_count": 5,
   "id": "architectural-colorado",
   "metadata": {
    "execution": {
     "iopub.execute_input": "2021-05-21T12:01:52.599769Z",
     "iopub.status.busy": "2021-05-21T12:01:52.599122Z",
     "iopub.status.idle": "2021-05-21T12:01:52.605837Z",
     "shell.execute_reply": "2021-05-21T12:01:52.605253Z"
    },
    "id": "XtqeYLf7WaiV",
    "outputId": "6f669e89-f3f2-4a2d-d54a-c6acbd1f26ca",
    "papermill": {
     "duration": 0.045364,
     "end_time": "2021-05-21T12:01:52.605980",
     "exception": false,
     "start_time": "2021-05-21T12:01:52.560616",
     "status": "completed"
    },
    "tags": []
   },
   "outputs": [
    {
     "data": {
      "text/plain": [
       "id                   0\n",
       "gender               0\n",
       "age                  0\n",
       "hypertension         0\n",
       "heart_disease        0\n",
       "ever_married         0\n",
       "work_type            0\n",
       "Residence_type       0\n",
       "avg_glucose_level    0\n",
       "bmi                  0\n",
       "smoking_status       0\n",
       "stroke               0\n",
       "dtype: int64"
      ]
     },
     "execution_count": 5,
     "metadata": {},
     "output_type": "execute_result"
    }
   ],
   "source": [
    "df.isnull().sum()"
   ]
  },
  {
   "cell_type": "markdown",
   "id": "gross-institute",
   "metadata": {
    "id": "dTQCHFF45xxy",
    "papermill": {
     "duration": 0.03146,
     "end_time": "2021-05-21T12:01:52.668983",
     "exception": false,
     "start_time": "2021-05-21T12:01:52.637523",
     "status": "completed"
    },
    "tags": []
   },
   "source": [
    "## Correlation\n",
    "\n",
    "Now, before we start I'll show you the correlation between these features.\n",
    "\n",
    "As we see there is no good correlation between these features, the best correlation is between stroke and age and it's not very good.\n",
    "\n",
    "Because of that, I say this dataset is missing some additional information, but something better than nothing."
   ]
  },
  {
   "cell_type": "code",
   "execution_count": 6,
   "id": "blocked-copyright",
   "metadata": {
    "execution": {
     "iopub.execute_input": "2021-05-21T12:01:52.737233Z",
     "iopub.status.busy": "2021-05-21T12:01:52.736575Z",
     "iopub.status.idle": "2021-05-21T12:01:53.073742Z",
     "shell.execute_reply": "2021-05-21T12:01:53.073240Z"
    },
    "id": "CBwZyZJx2Fwv",
    "outputId": "996f148a-ce7e-42fc-817e-a12843f722ba",
    "papermill": {
     "duration": 0.373361,
     "end_time": "2021-05-21T12:01:53.073893",
     "exception": false,
     "start_time": "2021-05-21T12:01:52.700532",
     "status": "completed"
    },
    "tags": []
   },
   "outputs": [
    {
     "data": {
      "text/plain": [
       "<AxesSubplot:>"
      ]
     },
     "execution_count": 6,
     "metadata": {},
     "output_type": "execute_result"
    },
    {
     "data": {
      "image/png": "[encoded data removed]",
      "text/plain": [
       "<Figure size 432x288 with 2 Axes>"
      ]
     },
     "metadata": {
      "needs_background": "light"
     },
     "output_type": "display_data"
    }
   ],
   "source": [
    "sns.heatmap(data=df.corr())"
   ]
  },
  {
   "cell_type": "code",
   "execution_count": 7,
   "id": "accomplished-magazine",
   "metadata": {
    "execution": {
     "iopub.execute_input": "2021-05-21T12:01:53.145607Z",
     "iopub.status.busy": "2021-05-21T12:01:53.144952Z",
     "iopub.status.idle": "2021-05-21T12:01:53.148419Z",
     "shell.execute_reply": "2021-05-21T12:01:53.147860Z"
    },
    "id": "b9gcyu4KW65o",
    "papermill": {
     "duration": 0.041211,
     "end_time": "2021-05-21T12:01:53.148585",
     "exception": false,
     "start_time": "2021-05-21T12:01:53.107374",
     "status": "completed"
    },
    "tags": []
   },
   "outputs": [],
   "source": [
    "plt.style.use('ggplot')"
   ]
  },
  {
   "cell_type": "markdown",
   "id": "labeled-transaction",
   "metadata": {
    "id": "0CxL5PTC6FbC",
    "papermill": {
     "duration": 0.032762,
     "end_time": "2021-05-21T12:01:53.214452",
     "exception": false,
     "start_time": "2021-05-21T12:01:53.181690",
     "status": "completed"
    },
    "tags": []
   },
   "source": [
    "#Gender \n",
    "\n",
    "look, when we try plotting the gender and who have stroke we didn't see any information about how is gender can affect the stroke.\n",
    "\n",
    "I don't know if gender can affect the stroke or not, but what I saw told us that gender can't affect the stroke If you have different information share this information in the comments."
   ]
  },
  {
   "cell_type": "code",
   "execution_count": 8,
   "id": "incident-banana",
   "metadata": {
    "execution": {
     "iopub.execute_input": "2021-05-21T12:01:53.285597Z",
     "iopub.status.busy": "2021-05-21T12:01:53.284958Z",
     "iopub.status.idle": "2021-05-21T12:01:53.481242Z",
     "shell.execute_reply": "2021-05-21T12:01:53.480517Z"
    },
    "id": "_bW3XRVUWkQj",
    "outputId": "987b185d-ec09-4e6c-8c30-4a2966adaa12",
    "papermill": {
     "duration": 0.234378,
     "end_time": "2021-05-21T12:01:53.481409",
     "exception": false,
     "start_time": "2021-05-21T12:01:53.247031",
     "status": "completed"
    },
    "tags": []
   },
   "outputs": [
    {
     "data": {
      "text/plain": [
       "<AxesSubplot:xlabel='gender', ylabel='count'>"
      ]
     },
     "execution_count": 8,
     "metadata": {},
     "output_type": "execute_result"
    },
    {
     "data": {
      "image/png": "[encoded data removed]",
      "text/plain": [
       "<Figure size 432x288 with 1 Axes>"
      ]
     },
     "metadata": {},
     "output_type": "display_data"
    }
   ],
   "source": [
    "total = df.loc[df['stroke'] == 1]['stroke'].sum()\n",
    "plt.text(-1,3250,f'total number of people who stroked is: {total}',fontsize=17)\n",
    "sns.countplot(data=df,x='gender',hue='stroke')"
   ]
  },
  {
   "cell_type": "markdown",
   "id": "informative-phrase",
   "metadata": {
    "id": "31hhaJYM8gIE",
    "papermill": {
     "duration": 0.047824,
     "end_time": "2021-05-21T12:01:53.564633",
     "exception": false,
     "start_time": "2021-05-21T12:01:53.516809",
     "status": "completed"
    },
    "tags": []
   },
   "source": [
    "# Age\n",
    "\n",
    "Now, let's talk about the best correlations in these features. Age will notice when we look at the graphs below that is **people who are older than 40 years at risk of stroke** than who are younger than 40 years.\n",
    "\n",
    "> Also, when you got older you are at more risk of stroke."
   ]
  },
  {
   "cell_type": "code",
   "execution_count": 9,
   "id": "quarterly-disposal",
   "metadata": {
    "execution": {
     "iopub.execute_input": "2021-05-21T12:01:53.661723Z",
     "iopub.status.busy": "2021-05-21T12:01:53.661048Z",
     "iopub.status.idle": "2021-05-21T12:01:53.675519Z",
     "shell.execute_reply": "2021-05-21T12:01:53.674856Z"
    },
    "id": "Ro85yWY_bMce",
    "outputId": "f2192af0-3e6f-46b2-8e6b-8778960fe4c3",
    "papermill": {
     "duration": 0.064359,
     "end_time": "2021-05-21T12:01:53.675659",
     "exception": false,
     "start_time": "2021-05-21T12:01:53.611300",
     "status": "completed"
    },
    "tags": []
   },
   "outputs": [
    {
     "name": "stdout",
     "output_type": "stream",
     "text": [
      "count    249.000000\n",
      "mean      67.728193\n",
      "std       12.727419\n",
      "min        1.320000\n",
      "25%       59.000000\n",
      "50%       71.000000\n",
      "75%       78.000000\n",
      "max       82.000000\n",
      "Name: age, dtype: float64\n",
      "----------------------------------------------------------------------------------------------------\n",
      "count    4861.000000\n",
      "mean       41.971545\n",
      "std        22.291940\n",
      "min         0.080000\n",
      "25%        24.000000\n",
      "50%        43.000000\n",
      "75%        59.000000\n",
      "max        82.000000\n",
      "Name: age, dtype: float64\n"
     ]
    }
   ],
   "source": [
    "print(df.loc[df['stroke'] == 1]['age'].describe())\n",
    "print('-'*100)\n",
    "print(df.loc[df['stroke'] == 0]['age'].describe())"
   ]
  },
  {
   "cell_type": "code",
   "execution_count": 10,
   "id": "improved-jamaica",
   "metadata": {
    "execution": {
     "iopub.execute_input": "2021-05-21T12:01:53.773339Z",
     "iopub.status.busy": "2021-05-21T12:01:53.752571Z",
     "iopub.status.idle": "2021-05-21T12:01:54.137972Z",
     "shell.execute_reply": "2021-05-21T12:01:54.138436Z"
    },
    "id": "u98Mg7BYbx4V",
    "outputId": "b8cc70fc-39cf-42e5-962a-834d44882d93",
    "papermill": {
     "duration": 0.428233,
     "end_time": "2021-05-21T12:01:54.138614",
     "exception": false,
     "start_time": "2021-05-21T12:01:53.710381",
     "status": "completed"
    },
    "tags": []
   },
   "outputs": [
    {
     "data": {
      "text/plain": [
       "<AxesSubplot:title={'center':'People who have stroke'}, xlabel='age', ylabel='Count'>"
      ]
     },
     "execution_count": 10,
     "metadata": {},
     "output_type": "execute_result"
    },
    {
     "data": {
      "image/png": "[encoded data removed]",
      "text/plain": [
       "<Figure size 720x576 with 2 Axes>"
      ]
     },
     "metadata": {},
     "output_type": "display_data"
    }
   ],
   "source": [
    "fig = plt.figure(figsize=(10,8))\n",
    "plt.subplot(211)\n",
    "plt.title(\"People who don't have stroke\")\n",
    "sns.histplot(data=df.loc[df['stroke'] == 0],x='age')\n",
    "plt.xlabel('')\n",
    "plt.subplot(212)\n",
    "plt.title(\"People who have stroke\")\n",
    "sns.histplot(data=df.loc[df['stroke'] == 1],x='age')"
   ]
  },
  {
   "cell_type": "markdown",
   "id": "mental-kitty",
   "metadata": {
    "id": "xkjrkOkflJzX",
    "papermill": {
     "duration": 0.036555,
     "end_time": "2021-05-21T12:01:54.211424",
     "exception": false,
     "start_time": "2021-05-21T12:01:54.174869",
     "status": "completed"
    },
    "tags": []
   },
   "source": [
    "# Hypertension\n",
    "\n",
    "As we see below, most of those who have a stroke don't have hypertension, and that makes the **ischemic stroke**.\n",
    "\n",
    "this type of stroke happens when there is an issue or defect in blood quantity that came to the brain, and this is a popular type of stroke.\n",
    "\n",
    "> It happens when a little quantity of blood arrived in the brain.\n",
    "\n",
    " ischemic stroke :\n",
    "\n",
    "this type of stroke is constituted 80% of strokes that happen, this stroke happens with blood-vessel got tight or closed completely or closed molecule. so that makes huge low blood quantity that supplies to the brain (Ischemia). and that prevents supply the brain with oxygen and food, so that makes the brain's cells die in few minutes\n",
    "\n",
    "look at ischemic stroke.\n",
    "\n",
    "![](http://www.op2lysis.com/wp-content/uploads/2018/02/AVC_Visuel_VA.png)"
   ]
  },
  {
   "cell_type": "code",
   "execution_count": 11,
   "id": "adjacent-proxy",
   "metadata": {
    "execution": {
     "iopub.execute_input": "2021-05-21T12:01:54.299287Z",
     "iopub.status.busy": "2021-05-21T12:01:54.293983Z",
     "iopub.status.idle": "2021-05-21T12:01:54.478944Z",
     "shell.execute_reply": "2021-05-21T12:01:54.479417Z"
    },
    "id": "Nxx4p4Wjeepc",
    "outputId": "4ec729b3-9a00-4905-d285-0be73f8df783",
    "papermill": {
     "duration": 0.232098,
     "end_time": "2021-05-21T12:01:54.479596",
     "exception": false,
     "start_time": "2021-05-21T12:01:54.247498",
     "status": "completed"
    },
    "tags": []
   },
   "outputs": [
    {
     "data": {
      "text/plain": [
       "<AxesSubplot:xlabel='hypertension', ylabel='Count'>"
      ]
     },
     "execution_count": 11,
     "metadata": {},
     "output_type": "execute_result"
    },
    {
     "data": {
      "image/png": "[encoded data removed]",
      "text/plain": [
       "<Figure size 432x288 with 1 Axes>"
      ]
     },
     "metadata": {},
     "output_type": "display_data"
    }
   ],
   "source": [
    "query = df.loc[df['stroke'] == 1]\n",
    "x = query.groupby('hypertension')['hypertension'].count()[0]\n",
    "y = query.groupby('hypertension')['hypertension'].count()[1]\n",
    "plt.text(x=0.02,y=x+1,s=x,fontsize=10)\n",
    "plt.text(x=.925,y=y+2,s=y,fontsize=10)\n",
    "sns.histplot(data=query,x='hypertension')"
   ]
  },
  {
   "cell_type": "markdown",
   "id": "ruled-remedy",
   "metadata": {
    "id": "jXALT-ZJrM5V",
    "papermill": {
     "duration": 0.038258,
     "end_time": "2021-05-21T12:01:54.556962",
     "exception": false,
     "start_time": "2021-05-21T12:01:54.518704",
     "status": "completed"
    },
    "tags": []
   },
   "source": [
    "# Heart disease\n",
    "\n",
    "As we see no correlations between heart disease and stroke.\n",
    "\n",
    "\n",
    "Most of have stroke they haven't heart disease."
   ]
  },
  {
   "cell_type": "code",
   "execution_count": 12,
   "id": "continuous-place",
   "metadata": {
    "execution": {
     "iopub.execute_input": "2021-05-21T12:01:54.660740Z",
     "iopub.status.busy": "2021-05-21T12:01:54.659963Z",
     "iopub.status.idle": "2021-05-21T12:01:54.663266Z",
     "shell.execute_reply": "2021-05-21T12:01:54.663713Z"
    },
    "id": "JtWrL_2PhxUj",
    "outputId": "60ae145c-75ef-4332-ef78-e454c1e5c240",
    "papermill": {
     "duration": 0.067161,
     "end_time": "2021-05-21T12:01:54.663886",
     "exception": false,
     "start_time": "2021-05-21T12:01:54.596725",
     "status": "completed"
    },
    "tags": []
   },
   "outputs": [
    {
     "data": {
      "text/html": [
       "<div>\n",
       "<style scoped>\n",
       "    .dataframe tbody tr th:only-of-type {\n",
       "        vertical-align: middle;\n",
       "    }\n",
       "\n",
       "    .dataframe tbody tr th {\n",
       "        vertical-align: top;\n",
       "    }\n",
       "\n",
       "    .dataframe thead th {\n",
       "        text-align: right;\n",
       "    }\n",
       "</style>\n",
       "<table border=\"1\" class=\"dataframe\">\n",
       "  <thead>\n",
       "    <tr style=\"text-align: right;\">\n",
       "      <th></th>\n",
       "      <th>count</th>\n",
       "      <th>mean</th>\n",
       "      <th>std</th>\n",
       "      <th>min</th>\n",
       "      <th>25%</th>\n",
       "      <th>50%</th>\n",
       "      <th>75%</th>\n",
       "      <th>max</th>\n",
       "    </tr>\n",
       "    <tr>\n",
       "      <th>heart_disease</th>\n",
       "      <th></th>\n",
       "      <th></th>\n",
       "      <th></th>\n",
       "      <th></th>\n",
       "      <th></th>\n",
       "      <th></th>\n",
       "      <th></th>\n",
       "      <th></th>\n",
       "    </tr>\n",
       "  </thead>\n",
       "  <tbody>\n",
       "    <tr>\n",
       "      <th>0</th>\n",
       "      <td>202.0</td>\n",
       "      <td>0.0</td>\n",
       "      <td>0.0</td>\n",
       "      <td>0.0</td>\n",
       "      <td>0.0</td>\n",
       "      <td>0.0</td>\n",
       "      <td>0.0</td>\n",
       "      <td>0.0</td>\n",
       "    </tr>\n",
       "    <tr>\n",
       "      <th>1</th>\n",
       "      <td>47.0</td>\n",
       "      <td>1.0</td>\n",
       "      <td>0.0</td>\n",
       "      <td>1.0</td>\n",
       "      <td>1.0</td>\n",
       "      <td>1.0</td>\n",
       "      <td>1.0</td>\n",
       "      <td>1.0</td>\n",
       "    </tr>\n",
       "  </tbody>\n",
       "</table>\n",
       "</div>"
      ],
      "text/plain": [
       "               count  mean  std  min  25%  50%  75%  max\n",
       "heart_disease                                           \n",
       "0              202.0   0.0  0.0  0.0  0.0  0.0  0.0  0.0\n",
       "1               47.0   1.0  0.0  1.0  1.0  1.0  1.0  1.0"
      ]
     },
     "execution_count": 12,
     "metadata": {},
     "output_type": "execute_result"
    }
   ],
   "source": [
    "query = df.loc[df['stroke'] == 1]\n",
    "query.groupby('heart_disease')['heart_disease'].describe()"
   ]
  },
  {
   "cell_type": "markdown",
   "id": "designing-consensus",
   "metadata": {
    "id": "eutpdcyir_Om",
    "papermill": {
     "duration": 0.03791,
     "end_time": "2021-05-21T12:01:54.740606",
     "exception": false,
     "start_time": "2021-05-21T12:01:54.702696",
     "status": "completed"
    },
    "tags": []
   },
   "source": [
    "# ever_married\n",
    "\n",
    "As we see below, most of the people who had a stroke were married.\n",
    "\n",
    "and that's making us ask what is the correlation between marriage and stroke, maybe a lot of thinking about the family and the children's schools, health, education, economic.\n",
    "\n",
    "And a lot of thinking makes the brain tired.\n",
    "\n",
    "because of that, don't marry :) "
   ]
  },
  {
   "cell_type": "code",
   "execution_count": 13,
   "id": "unexpected-pathology",
   "metadata": {
    "execution": {
     "iopub.execute_input": "2021-05-21T12:01:54.820251Z",
     "iopub.status.busy": "2021-05-21T12:01:54.819628Z",
     "iopub.status.idle": "2021-05-21T12:01:54.930543Z",
     "shell.execute_reply": "2021-05-21T12:01:54.929853Z"
    },
    "id": "ocdRjkSBtv3a",
    "outputId": "bdd1855f-563e-46c7-a889-0d285a46e344",
    "papermill": {
     "duration": 0.152019,
     "end_time": "2021-05-21T12:01:54.930682",
     "exception": false,
     "start_time": "2021-05-21T12:01:54.778663",
     "status": "completed"
    },
    "tags": []
   },
   "outputs": [
    {
     "data": {
      "text/plain": [
       "<AxesSubplot:xlabel='ever_married', ylabel='count'>"
      ]
     },
     "execution_count": 13,
     "metadata": {},
     "output_type": "execute_result"
    },
    {
     "data": {
      "image/png": "[encoded data removed]",
      "text/plain": [
       "<Figure size 432x288 with 1 Axes>"
      ]
     },
     "metadata": {},
     "output_type": "display_data"
    }
   ],
   "source": [
    "query = df.loc[df['stroke'] == 1]\n",
    "sns.countplot(data=query,x='ever_married') "
   ]
  },
  {
   "cell_type": "markdown",
   "id": "criminal-italy",
   "metadata": {
    "id": "XlHHuoyctiw2",
    "papermill": {
     "duration": 0.040558,
     "end_time": "2021-05-21T12:01:55.010574",
     "exception": false,
     "start_time": "2021-05-21T12:01:54.970016",
     "status": "completed"
    },
    "tags": []
   },
   "source": [
    "# Work type\n",
    "\n",
    "Look at most of those who have a stroke working in a private job or self-employed.\n",
    "\n",
    "Also here, that is making us ask ourselves what made them have a stroke, as we know in the private job and self-employed job the total hours of work is higher than government job that put the person's brain in a long time for working, day by day and week by week, long hours of work make the brain get tired, so happened what we were afraid of."
   ]
  },
  {
   "cell_type": "code",
   "execution_count": 14,
   "id": "unavailable-colonial",
   "metadata": {
    "execution": {
     "iopub.execute_input": "2021-05-21T12:01:55.098862Z",
     "iopub.status.busy": "2021-05-21T12:01:55.097806Z",
     "iopub.status.idle": "2021-05-21T12:01:55.102410Z",
     "shell.execute_reply": "2021-05-21T12:01:55.101853Z"
    },
    "id": "Ni0vJhSBwd6R",
    "outputId": "b25c96a2-4308-4777-e1fd-b2a86f2f0112",
    "papermill": {
     "duration": 0.052416,
     "end_time": "2021-05-21T12:01:55.102551",
     "exception": false,
     "start_time": "2021-05-21T12:01:55.050135",
     "status": "completed"
    },
    "tags": []
   },
   "outputs": [
    {
     "data": {
      "text/plain": [
       "work_type\n",
       "Govt_job          33\n",
       "Private          149\n",
       "Self-employed     65\n",
       "children           2\n",
       "Name: work_type, dtype: int64"
      ]
     },
     "execution_count": 14,
     "metadata": {},
     "output_type": "execute_result"
    }
   ],
   "source": [
    "query.groupby('work_type')['work_type'].count()"
   ]
  },
  {
   "cell_type": "code",
   "execution_count": 15,
   "id": "efficient-macedonia",
   "metadata": {
    "execution": {
     "iopub.execute_input": "2021-05-21T12:01:55.223877Z",
     "iopub.status.busy": "2021-05-21T12:01:55.202809Z",
     "iopub.status.idle": "2021-05-21T12:01:55.349035Z",
     "shell.execute_reply": "2021-05-21T12:01:55.348056Z"
    },
    "id": "2wNvjBVHuker",
    "outputId": "2da5bce1-fe1b-432d-f6f7-91fd17ba7921",
    "papermill": {
     "duration": 0.206019,
     "end_time": "2021-05-21T12:01:55.349211",
     "exception": false,
     "start_time": "2021-05-21T12:01:55.143192",
     "status": "completed"
    },
    "tags": []
   },
   "outputs": [
    {
     "data": {
      "text/plain": [
       "Text(10, 3, '2')"
      ]
     },
     "execution_count": 15,
     "metadata": {},
     "output_type": "execute_result"
    },
    {
     "data": {
      "image/png": "[encoded data removed]",
      "text/plain": [
       "<Figure size 432x288 with 1 Axes>"
      ]
     },
     "metadata": {},
     "output_type": "display_data"
    }
   ],
   "source": [
    "query = df.loc[df['stroke'] == 1]\n",
    "sns.countplot(data=query,y='work_type')\n",
    "govt_work = query.groupby('work_type')['work_type'].count()[0]\n",
    "privte = query.groupby('work_type')['work_type'].count()[1]\n",
    "self_employed = query.groupby('work_type')['work_type'].count()[2]\n",
    "children = query.groupby('work_type')['work_type'].count()[3]\n",
    "plt.text(x=40,y=2,s=govt_work,fontsize=13)\n",
    "plt.text(x=150,y=0,s=privte,fontsize=12)\n",
    "plt.text(x=70,y=1,s=self_employed,fontsize=12)\n",
    "plt.text(x=10,y=3,s=children,fontsize=12)"
   ]
  },
  {
   "cell_type": "markdown",
   "id": "peripheral-grounds",
   "metadata": {
    "id": "_Jae4wO-l3hA",
    "papermill": {
     "duration": 0.041386,
     "end_time": "2021-05-21T12:01:55.432391",
     "exception": false,
     "start_time": "2021-05-21T12:01:55.391005",
     "status": "completed"
    },
    "tags": []
   },
   "source": [
    "As we will be seeing in few seconds that other features didn't affect hugely on the stroke, because of that we will not talk about, and we will delete these features from the dataset when we going to train our model."
   ]
  },
  {
   "cell_type": "code",
   "execution_count": 16,
   "id": "metallic-census",
   "metadata": {
    "execution": {
     "iopub.execute_input": "2021-05-21T12:01:55.657625Z",
     "iopub.status.busy": "2021-05-21T12:01:55.656952Z",
     "iopub.status.idle": "2021-05-21T12:01:55.750861Z",
     "shell.execute_reply": "2021-05-21T12:01:55.750198Z"
    },
    "id": "GRbDRWzizdfU",
    "outputId": "aca72337-2ce7-4d76-80ff-285e453fd0dc",
    "papermill": {
     "duration": 0.275297,
     "end_time": "2021-05-21T12:01:55.750999",
     "exception": false,
     "start_time": "2021-05-21T12:01:55.475702",
     "status": "completed"
    },
    "tags": []
   },
   "outputs": [
    {
     "data": {
      "text/plain": [
       "<AxesSubplot:xlabel='Residence_type', ylabel='count'>"
      ]
     },
     "execution_count": 16,
     "metadata": {},
     "output_type": "execute_result"
    },
    {
     "data": {
      "image/png": "[encoded data removed]",
      "text/plain": [
       "<Figure size 432x288 with 1 Axes>"
      ]
     },
     "metadata": {},
     "output_type": "display_data"
    }
   ],
   "source": [
    "query = df.loc[df['stroke'] == 1]\n",
    "sns.countplot(data=query,x='Residence_type')"
   ]
  },
  {
   "cell_type": "code",
   "execution_count": 17,
   "id": "divided-recycling",
   "metadata": {
    "execution": {
     "iopub.execute_input": "2021-05-21T12:01:55.847836Z",
     "iopub.status.busy": "2021-05-21T12:01:55.843845Z",
     "iopub.status.idle": "2021-05-21T12:01:55.887002Z",
     "shell.execute_reply": "2021-05-21T12:01:55.886405Z"
    },
    "id": "HkTbBPXDz5CN",
    "outputId": "b62217e0-373f-45f2-9ac6-059057fe5eb2",
    "papermill": {
     "duration": 0.093941,
     "end_time": "2021-05-21T12:01:55.887162",
     "exception": false,
     "start_time": "2021-05-21T12:01:55.793221",
     "status": "completed"
    },
    "tags": []
   },
   "outputs": [
    {
     "name": "stdout",
     "output_type": "stream",
     "text": [
      "count    249.000000\n",
      "mean     132.544739\n",
      "std       61.921056\n",
      "min       56.110000\n",
      "25%       79.790000\n",
      "50%      105.220000\n",
      "75%      196.710000\n",
      "max      271.740000\n",
      "Name: avg_glucose_level, dtype: float64\n",
      "----------------------------------------------------------------------------------------------------\n",
      "----------------------------------------------------------------------------------------------------\n",
      "count    4861.000000\n",
      "mean      104.795513\n",
      "std        43.846069\n",
      "min        55.120000\n",
      "25%        77.120000\n",
      "50%        91.470000\n",
      "75%       112.830000\n",
      "max       267.760000\n",
      "Name: avg_glucose_level, dtype: float64\n"
     ]
    }
   ],
   "source": [
    "have_stroke = df.loc[df['stroke'] == 1]\n",
    "non_stroke = df.loc[df['stroke'] == 0]\n",
    "print(have_stroke.describe()['avg_glucose_level'])\n",
    "print('-'*100)\n",
    "print('-'*100)\n",
    "print(non_stroke.describe()['avg_glucose_level'])"
   ]
  },
  {
   "cell_type": "code",
   "execution_count": 18,
   "id": "dress-discrimination",
   "metadata": {
    "execution": {
     "iopub.execute_input": "2021-05-21T12:01:55.997628Z",
     "iopub.status.busy": "2021-05-21T12:01:55.993449Z",
     "iopub.status.idle": "2021-05-21T12:01:56.395845Z",
     "shell.execute_reply": "2021-05-21T12:01:56.395340Z"
    },
    "id": "c2wOBprS0iO_",
    "outputId": "463c6c9d-e1b0-47f3-8cc5-bfbc6e980b3d",
    "papermill": {
     "duration": 0.46596,
     "end_time": "2021-05-21T12:01:56.395993",
     "exception": false,
     "start_time": "2021-05-21T12:01:55.930033",
     "status": "completed"
    },
    "tags": []
   },
   "outputs": [
    {
     "data": {
      "text/plain": [
       "<AxesSubplot:xlabel='avg_glucose_level', ylabel='Count'>"
      ]
     },
     "execution_count": 18,
     "metadata": {},
     "output_type": "execute_result"
    },
    {
     "data": {
      "image/png": "[encoded data removed]",
      "text/plain": [
       "<Figure size 720x576 with 2 Axes>"
      ]
     },
     "metadata": {},
     "output_type": "display_data"
    }
   ],
   "source": [
    "plt.figure(figsize=(10,8))\n",
    "plt.subplot(211)\n",
    "sns.histplot(data=have_stroke,x='avg_glucose_level')\n",
    "plt.subplot(212)\n",
    "sns.histplot(data=non_stroke,x='avg_glucose_level')"
   ]
  },
  {
   "cell_type": "code",
   "execution_count": 19,
   "id": "continental-march",
   "metadata": {
    "execution": {
     "iopub.execute_input": "2021-05-21T12:01:56.493652Z",
     "iopub.status.busy": "2021-05-21T12:01:56.492630Z",
     "iopub.status.idle": "2021-05-21T12:01:56.535992Z",
     "shell.execute_reply": "2021-05-21T12:01:56.535327Z"
    },
    "id": "nk80Z8x51amG",
    "outputId": "055ff926-51e1-4916-aac7-2d37e0074e65",
    "papermill": {
     "duration": 0.095516,
     "end_time": "2021-05-21T12:01:56.536146",
     "exception": false,
     "start_time": "2021-05-21T12:01:56.440630",
     "status": "completed"
    },
    "tags": []
   },
   "outputs": [
    {
     "name": "stdout",
     "output_type": "stream",
     "text": [
      "count    249.000000\n",
      "mean      30.336552\n",
      "std        5.885467\n",
      "min       16.900000\n",
      "25%       27.000000\n",
      "50%       29.817949\n",
      "75%       32.800000\n",
      "max       56.600000\n",
      "Name: bmi, dtype: float64\n",
      "----------------------------------------------------------------------------------------------------\n",
      "----------------------------------------------------------------------------------------------------\n",
      "count    4861.000000\n",
      "mean       28.845767\n",
      "std         7.808223\n",
      "min        10.300000\n",
      "25%        23.500000\n",
      "50%        28.100000\n",
      "75%        32.900000\n",
      "max        97.600000\n",
      "Name: bmi, dtype: float64\n"
     ]
    }
   ],
   "source": [
    "have_stroke = df.loc[df['stroke'] == 1]\n",
    "non_stroke = df.loc[df['stroke'] == 0]\n",
    "print(have_stroke.describe()['bmi'])\n",
    "print('-'*100)\n",
    "print('-'*100)\n",
    "print(non_stroke.describe()['bmi'])"
   ]
  },
  {
   "cell_type": "code",
   "execution_count": 20,
   "id": "finnish-contents",
   "metadata": {
    "execution": {
     "iopub.execute_input": "2021-05-21T12:01:56.654872Z",
     "iopub.status.busy": "2021-05-21T12:01:56.651662Z",
     "iopub.status.idle": "2021-05-21T12:01:57.130209Z",
     "shell.execute_reply": "2021-05-21T12:01:57.129688Z"
    },
    "id": "RhBtYVM31g99",
    "outputId": "b9040544-e215-4389-ddae-7b0b5a533fed",
    "papermill": {
     "duration": 0.547757,
     "end_time": "2021-05-21T12:01:57.130349",
     "exception": false,
     "start_time": "2021-05-21T12:01:56.582592",
     "status": "completed"
    },
    "tags": []
   },
   "outputs": [
    {
     "data": {
      "text/plain": [
       "<AxesSubplot:xlabel='bmi', ylabel='Count'>"
      ]
     },
     "execution_count": 20,
     "metadata": {},
     "output_type": "execute_result"
    },
    {
     "data": {
      "image/png": "[encoded data removed]",
      "text/plain": [
       "<Figure size 720x576 with 2 Axes>"
      ]
     },
     "metadata": {},
     "output_type": "display_data"
    }
   ],
   "source": [
    "plt.figure(figsize=(10,8))\n",
    "plt.subplot(211)\n",
    "sns.histplot(data=have_stroke,x='bmi')\n",
    "plt.subplot(212)\n",
    "sns.histplot(data=non_stroke,x='bmi')"
   ]
  },
  {
   "cell_type": "code",
   "execution_count": 21,
   "id": "sound-removal",
   "metadata": {
    "execution": {
     "iopub.execute_input": "2021-05-21T12:01:57.240192Z",
     "iopub.status.busy": "2021-05-21T12:01:57.232134Z",
     "iopub.status.idle": "2021-05-21T12:01:57.353534Z",
     "shell.execute_reply": "2021-05-21T12:01:57.352849Z"
    },
    "id": "uvWABmrz1uiX",
    "outputId": "2a88e098-95de-46a3-ae6a-831768fafc8e",
    "papermill": {
     "duration": 0.176903,
     "end_time": "2021-05-21T12:01:57.353676",
     "exception": false,
     "start_time": "2021-05-21T12:01:57.176773",
     "status": "completed"
    },
    "tags": []
   },
   "outputs": [
    {
     "data": {
      "text/plain": [
       "<AxesSubplot:xlabel='smoking_status', ylabel='count'>"
      ]
     },
     "execution_count": 21,
     "metadata": {},
     "output_type": "execute_result"
    },
    {
     "data": {
      "image/png": "[encoded data removed]",
      "text/plain": [
       "<Figure size 432x288 with 1 Axes>"
      ]
     },
     "metadata": {},
     "output_type": "display_data"
    }
   ],
   "source": [
    "query = df.loc[df['stroke'] == 1]\n",
    "sns.countplot(data=query,x='smoking_status') "
   ]
  },
  {
   "cell_type": "markdown",
   "id": "multiple-vinyl",
   "metadata": {
    "id": "xV53sTKbnTzi",
    "papermill": {
     "duration": 0.046657,
     "end_time": "2021-05-21T12:01:57.447970",
     "exception": false,
     "start_time": "2021-05-21T12:01:57.401313",
     "status": "completed"
    },
    "tags": []
   },
   "source": [
    "# Model\n"
   ]
  },
  {
   "cell_type": "code",
   "execution_count": 22,
   "id": "mounted-gravity",
   "metadata": {
    "execution": {
     "iopub.execute_input": "2021-05-21T12:01:57.555159Z",
     "iopub.status.busy": "2021-05-21T12:01:57.554246Z",
     "iopub.status.idle": "2021-05-21T12:01:57.557597Z",
     "shell.execute_reply": "2021-05-21T12:01:57.556991Z"
    },
    "id": "hz-jpOJxnV5a",
    "papermill": {
     "duration": 0.062534,
     "end_time": "2021-05-21T12:01:57.557737",
     "exception": false,
     "start_time": "2021-05-21T12:01:57.495203",
     "status": "completed"
    },
    "tags": []
   },
   "outputs": [],
   "source": [
    "df['gender'] = df['gender'].map({'Female':0,'Male':1,'Other':2})\n",
    "df['work_type'] = df['work_type'].map({'Private':0,'Self-employed':1,'Govt_job':2,'children':3,'Never_worked':4})\n",
    "df['ever_married'] = df['ever_married'].map({'No':0,'Yes':1})"
   ]
  },
  {
   "cell_type": "code",
   "execution_count": 23,
   "id": "perceived-vermont",
   "metadata": {
    "execution": {
     "iopub.execute_input": "2021-05-21T12:01:57.659614Z",
     "iopub.status.busy": "2021-05-21T12:01:57.658898Z",
     "iopub.status.idle": "2021-05-21T12:01:57.663908Z",
     "shell.execute_reply": "2021-05-21T12:01:57.663372Z"
    },
    "id": "B3lgwz4toh-g",
    "papermill": {
     "duration": 0.057808,
     "end_time": "2021-05-21T12:01:57.664053",
     "exception": false,
     "start_time": "2021-05-21T12:01:57.606245",
     "status": "completed"
    },
    "tags": []
   },
   "outputs": [],
   "source": [
    "features = ['gender','work_type','ever_married','age','hypertension','heart_disease','avg_glucose_level']\n",
    "features = df[list(features)]\n",
    "label = df['stroke'].values"
   ]
  },
  {
   "cell_type": "code",
   "execution_count": 24,
   "id": "needed-length",
   "metadata": {
    "execution": {
     "iopub.execute_input": "2021-05-21T12:01:57.766247Z",
     "iopub.status.busy": "2021-05-21T12:01:57.765612Z",
     "iopub.status.idle": "2021-05-21T12:01:57.769257Z",
     "shell.execute_reply": "2021-05-21T12:01:57.769711Z"
    },
    "id": "_iLrubVLpDkD",
    "papermill": {
     "duration": 0.057651,
     "end_time": "2021-05-21T12:01:57.769882",
     "exception": false,
     "start_time": "2021-05-21T12:01:57.712231",
     "status": "completed"
    },
    "tags": []
   },
   "outputs": [],
   "source": [
    "Xtrain , Xtest , Ytrain , Ytest = train_test_split(features,label,test_size=0.3,random_state=114)"
   ]
  },
  {
   "cell_type": "code",
   "execution_count": 25,
   "id": "integrated-legislature",
   "metadata": {
    "execution": {
     "iopub.execute_input": "2021-05-21T12:01:57.871303Z",
     "iopub.status.busy": "2021-05-21T12:01:57.870645Z",
     "iopub.status.idle": "2021-05-21T12:01:57.873579Z",
     "shell.execute_reply": "2021-05-21T12:01:57.874185Z"
    },
    "id": "ustmv7P1pNdU",
    "outputId": "130f14dc-0716-48ff-b530-073eb94cf9c8",
    "papermill": {
     "duration": 0.057072,
     "end_time": "2021-05-21T12:01:57.874356",
     "exception": false,
     "start_time": "2021-05-21T12:01:57.817284",
     "status": "completed"
    },
    "tags": []
   },
   "outputs": [
    {
     "name": "stdout",
     "output_type": "stream",
     "text": [
      "X train Shape:  (3577, 7)\n",
      "Y train Shape:  (3577,)\n",
      "X test Shape:  (1533, 7)\n",
      "Y test Shape:  (1533,)\n"
     ]
    }
   ],
   "source": [
    "print('X train Shape: ',Xtrain.shape)\n",
    "print('Y train Shape: ',Ytrain.shape)\n",
    "print('X test Shape: ',Xtest.shape)\n",
    "print('Y test Shape: ',Ytest.shape)"
   ]
  },
  {
   "cell_type": "markdown",
   "id": "controversial-modeling",
   "metadata": {
    "id": "cKwfocuusrC-",
    "papermill": {
     "duration": 0.047622,
     "end_time": "2021-05-21T12:01:57.971943",
     "exception": false,
     "start_time": "2021-05-21T12:01:57.924321",
     "status": "completed"
    },
    "tags": []
   },
   "source": [
    "> I'll use diffrent algorthim to train the model naive baies , RandomForestClassifier , VotingCalssifier , LogisticRegression and SVC"
   ]
  },
  {
   "cell_type": "markdown",
   "id": "administrative-airfare",
   "metadata": {
    "id": "-zZgh8dotXkS",
    "papermill": {
     "duration": 0.047539,
     "end_time": "2021-05-21T12:01:58.068570",
     "exception": false,
     "start_time": "2021-05-21T12:01:58.021031",
     "status": "completed"
    },
    "tags": []
   },
   "source": [
    "> **BernolliNB** "
   ]
  },
  {
   "cell_type": "code",
   "execution_count": 26,
   "id": "tutorial-demand",
   "metadata": {
    "execution": {
     "iopub.execute_input": "2021-05-21T12:01:58.169809Z",
     "iopub.status.busy": "2021-05-21T12:01:58.168845Z",
     "iopub.status.idle": "2021-05-21T12:01:58.171711Z",
     "shell.execute_reply": "2021-05-21T12:01:58.171223Z"
    },
    "id": "g1mAYEZ2pcUe",
    "papermill": {
     "duration": 0.055312,
     "end_time": "2021-05-21T12:01:58.171850",
     "exception": false,
     "start_time": "2021-05-21T12:01:58.116538",
     "status": "completed"
    },
    "tags": []
   },
   "outputs": [],
   "source": [
    "model = BernoulliNB()"
   ]
  },
  {
   "cell_type": "code",
   "execution_count": 27,
   "id": "excessive-ladder",
   "metadata": {
    "execution": {
     "iopub.execute_input": "2021-05-21T12:01:58.275458Z",
     "iopub.status.busy": "2021-05-21T12:01:58.274772Z",
     "iopub.status.idle": "2021-05-21T12:01:58.284439Z",
     "shell.execute_reply": "2021-05-21T12:01:58.283858Z"
    },
    "id": "4OkXHHXYpqCH",
    "outputId": "55f18777-e5a5-4306-d5c6-7fdcfdf4d8c8",
    "papermill": {
     "duration": 0.064139,
     "end_time": "2021-05-21T12:01:58.284586",
     "exception": false,
     "start_time": "2021-05-21T12:01:58.220447",
     "status": "completed"
    },
    "tags": []
   },
   "outputs": [
    {
     "data": {
      "text/plain": [
       "BernoulliNB()"
      ]
     },
     "execution_count": 27,
     "metadata": {},
     "output_type": "execute_result"
    }
   ],
   "source": [
    "model.fit(Xtrain,Ytrain)"
   ]
  },
  {
   "cell_type": "code",
   "execution_count": 28,
   "id": "anticipated-spain",
   "metadata": {
    "execution": {
     "iopub.execute_input": "2021-05-21T12:01:58.392448Z",
     "iopub.status.busy": "2021-05-21T12:01:58.391594Z",
     "iopub.status.idle": "2021-05-21T12:01:58.398635Z",
     "shell.execute_reply": "2021-05-21T12:01:58.397658Z"
    },
    "id": "gEygvnOlsH6y",
    "outputId": "8203c2db-a3f4-4213-dbb2-ea7447f512c6",
    "papermill": {
     "duration": 0.064992,
     "end_time": "2021-05-21T12:01:58.398816",
     "exception": false,
     "start_time": "2021-05-21T12:01:58.333824",
     "status": "completed"
    },
    "tags": []
   },
   "outputs": [
    {
     "name": "stdout",
     "output_type": "stream",
     "text": [
      "BernoulliNB score is:  95.04\n"
     ]
    }
   ],
   "source": [
    "print('BernoulliNB score is: ',np.round(model.score(Xtest,Ytest)*100,decimals=2))"
   ]
  },
  {
   "cell_type": "markdown",
   "id": "apparent-seven",
   "metadata": {
    "id": "-lpGsasytgTV",
    "papermill": {
     "duration": 0.048697,
     "end_time": "2021-05-21T12:01:58.497966",
     "exception": false,
     "start_time": "2021-05-21T12:01:58.449269",
     "status": "completed"
    },
    "tags": []
   },
   "source": [
    "> **RandomForestClassifier**"
   ]
  },
  {
   "cell_type": "code",
   "execution_count": 29,
   "id": "mounted-corpus",
   "metadata": {
    "execution": {
     "iopub.execute_input": "2021-05-21T12:01:58.603853Z",
     "iopub.status.busy": "2021-05-21T12:01:58.603227Z",
     "iopub.status.idle": "2021-05-21T12:01:58.986184Z",
     "shell.execute_reply": "2021-05-21T12:01:58.986735Z"
    },
    "id": "_q5sLIuuslyG",
    "outputId": "53e7fe57-583c-4cf5-a102-244eddfa8623",
    "papermill": {
     "duration": 0.440051,
     "end_time": "2021-05-21T12:01:58.986915",
     "exception": false,
     "start_time": "2021-05-21T12:01:58.546864",
     "status": "completed"
    },
    "tags": []
   },
   "outputs": [
    {
     "name": "stdout",
     "output_type": "stream",
     "text": [
      "RandomForestClassifier score is:  94.26\n"
     ]
    }
   ],
   "source": [
    "model = RandomForestClassifier()\n",
    "model.fit(Xtrain,Ytrain)\n",
    "print('RandomForestClassifier score is: ',np.round(model.score(Xtest,Ytest)*100,decimals=2))"
   ]
  },
  {
   "cell_type": "markdown",
   "id": "acknowledged-cheat",
   "metadata": {
    "id": "PkKcuaHPuJQ4",
    "papermill": {
     "duration": 0.050858,
     "end_time": "2021-05-21T12:01:59.088398",
     "exception": false,
     "start_time": "2021-05-21T12:01:59.037540",
     "status": "completed"
    },
    "tags": []
   },
   "source": [
    "> **LogisticRegression**"
   ]
  },
  {
   "cell_type": "code",
   "execution_count": 30,
   "id": "collect-phoenix",
   "metadata": {
    "execution": {
     "iopub.execute_input": "2021-05-21T12:01:59.192741Z",
     "iopub.status.busy": "2021-05-21T12:01:59.192037Z",
     "iopub.status.idle": "2021-05-21T12:01:59.290077Z",
     "shell.execute_reply": "2021-05-21T12:01:59.291236Z"
    },
    "id": "SVphEysKt520",
    "outputId": "6e1ba0ac-7cef-4ff7-c983-7563bac6326c",
    "papermill": {
     "duration": 0.153572,
     "end_time": "2021-05-21T12:01:59.291521",
     "exception": false,
     "start_time": "2021-05-21T12:01:59.137949",
     "status": "completed"
    },
    "tags": []
   },
   "outputs": [
    {
     "name": "stdout",
     "output_type": "stream",
     "text": [
      "LogisticRegression score is:  95.37\n"
     ]
    },
    {
     "name": "stderr",
     "output_type": "stream",
     "text": [
      "/opt/conda/lib/python3.7/site-packages/sklearn/linear_model/_sag.py:329: ConvergenceWarning: The max_iter was reached which means the coef_ did not converge\n",
      "  \"the coef_ did not converge\", ConvergenceWarning)\n"
     ]
    }
   ],
   "source": [
    "model = LogisticRegression(penalty='l1',solver='saga')\n",
    "model.fit(Xtrain,Ytrain)\n",
    "print('LogisticRegression score is: ',np.round(model.score(Xtest,Ytest)*100,decimals=2))"
   ]
  },
  {
   "cell_type": "markdown",
   "id": "brief-envelope",
   "metadata": {
    "id": "vzUKjPXRursh",
    "papermill": {
     "duration": 0.055637,
     "end_time": "2021-05-21T12:01:59.438190",
     "exception": false,
     "start_time": "2021-05-21T12:01:59.382553",
     "status": "completed"
    },
    "tags": []
   },
   "source": [
    "> **SVC**"
   ]
  },
  {
   "cell_type": "code",
   "execution_count": 31,
   "id": "cosmetic-prize",
   "metadata": {
    "execution": {
     "iopub.execute_input": "2021-05-21T12:01:59.548564Z",
     "iopub.status.busy": "2021-05-21T12:01:59.547501Z",
     "iopub.status.idle": "2021-05-21T12:01:59.687322Z",
     "shell.execute_reply": "2021-05-21T12:01:59.686265Z"
    },
    "id": "1IBbtE6XurBI",
    "outputId": "5f4ed9be-e5fd-4eae-a32f-8164a071a291",
    "papermill": {
     "duration": 0.198585,
     "end_time": "2021-05-21T12:01:59.687536",
     "exception": false,
     "start_time": "2021-05-21T12:01:59.488951",
     "status": "completed"
    },
    "tags": []
   },
   "outputs": [
    {
     "name": "stdout",
     "output_type": "stream",
     "text": [
      "svc score is:  95.37\n"
     ]
    }
   ],
   "source": [
    "svc = SVC()\n",
    "svc.fit(Xtrain,Ytrain)\n",
    "print('svc score is: ',np.round(svc.score(Xtest,Ytest)*100,decimals=2))"
   ]
  },
  {
   "cell_type": "markdown",
   "id": "bigger-empire",
   "metadata": {
    "id": "ABXJoIP0vX3E",
    "papermill": {
     "duration": 0.050245,
     "end_time": "2021-05-21T12:01:59.789023",
     "exception": false,
     "start_time": "2021-05-21T12:01:59.738778",
     "status": "completed"
    },
    "tags": []
   },
   "source": [
    "# Finale\n",
    "\n",
    "\n",
    "After we analyzed the data and trained our model, we discover and learn new things about stroke and what effect on it.\n",
    "\n",
    "We learned about ischemic stroke and how this stroke happened, we now know that low blood quantity affects the stroke.\n",
    "\n",
    "As we notice we have a lot of patients but just about 200 of these patients have a stroke, which makes prejudice in our model, because of that we have to add new patients that have a stroke, to give our model a clear view about stroke.\n",
    "\n",
    "before we finish, here all algorithms that we used gave us the same score, because of that you can choose anyone and work with.\n",
    "\n",
    "Goodbye."
   ]
  }
 ],
 "metadata": {
  "kernelspec": {
   "display_name": "Python 3",
   "language": "python",
   "name": "python3"
  },
  "language_info": {
   "codemirror_mode": {
    "name": "ipython",
    "version": 3
   },
   "file_extension": ".py",
   "mimetype": "text/x-python",
   "name": "python",
   "nbconvert_exporter": "python",
   "pygments_lexer": "ipython3",
   "version": "3.7.9"
  },
  "papermill": {
   "default_parameters": {},
   "duration": 16.982252,
   "end_time": "2021-05-21T12:02:00.550318",
   "environment_variables": {},
   "exception": null,
   "input_path": "__notebook__.ipynb",
   "output_path": "__notebook__.ipynb",
   "parameters": {},
   "start_time": "2021-05-21T12:01:43.568066",
   "version": "2.3.2"
  }
 },
 "nbformat": 4,
 "nbformat_minor": 5
}
